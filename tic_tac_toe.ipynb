{
  "nbformat": 4,
  "nbformat_minor": 0,
  "metadata": {
    "colab": {
      "name": "tic_tac_toe.ipynb",
      "provenance": [],
      "collapsed_sections": []
    },
    "kernelspec": {
      "name": "python3",
      "display_name": "Python 3"
    },
    "language_info": {
      "name": "python"
    }
  },
  "cells": [
    {
      "cell_type": "markdown",
      "source": [
        "**Tic Tac Toe game**"
      ],
      "metadata": {
        "id": "VmS6Woj3ggSy"
      }
    },
    {
      "cell_type": "code",
      "source": [
        "import random\n",
        "\n",
        "game_input = [\"Null\", 'X', 'O', 'X', 'O', 'X', 'O', 'X', 'O', 'X']\n",
        "\n",
        "\n",
        "def board(game_input):\n",
        "\tprint(game_input[7] + '|' + game_input[8] + '|' + game_input[9])\n",
        "\tprint(game_input[4] + '|' + game_input[5] + '|' + game_input[6])\n",
        "\tprint(game_input[1] + '|' + game_input[2] + '|' + game_input[3])\n",
        "\n",
        "\n",
        "# board(input_game)\n",
        "\n",
        "def player_input():\n",
        "\tmarker = ''\n",
        "\twhile marker != 'X' and marker != 'O':\n",
        "\t\tmarker = input('Player1: Please chose your marker: ')\n",
        "\tif marker == 'X':\n",
        "\t\treturn ('X', 'O')\n",
        "\telse:\n",
        "\t\treturn ('O', 'X')"
      ],
      "metadata": {
        "id": "bS9Azpk7Np73"
      },
      "execution_count": 8,
      "outputs": []
    },
    {
      "cell_type": "markdown",
      "source": [
        "**Create Board**"
      ],
      "metadata": {
        "id": "dq7Kz9T8n7xb"
      }
    },
    {
      "cell_type": "code",
      "source": [
        "import random\n",
        "game_input = ['Null','X','o','X','o','X','o','X','o','X']  #static values\n",
        "def board(game_input):\n",
        "    print(game_input[1]+'|'+game_input[2]+'|'+game_input[3])\n",
        "    print(game_input[4]+'|'+game_input[5]+'|'+game_input[6])\n",
        "    print(game_input[7]+'|'+game_input[8]+'|'+game_input[9])\n",
        "\n",
        "#board(game_input)\n",
        "\n",
        "def player_input():\n",
        "    marker = ''\n",
        "    while marker !='X' and marker !='o':\n",
        "          marker = input('Player1: Please choose your marker')\n",
        "    if marker == 'X':\n",
        "       return('X','o')\n",
        "    else:\n",
        "       return('o','X')\n",
        "\n",
        "player_input()\n",
        "\n",
        "player1,player2 = player_input()\n",
        "print(player1)\n",
        "print(player2)"
      ],
      "metadata": {
        "colab": {
          "base_uri": "https://localhost:8080/"
        },
        "id": "4YPA7J44n7Pk",
        "outputId": "f44d494d-51bd-41f6-c3bc-0036b580128a"
      },
      "execution_count": 7,
      "outputs": [
        {
          "output_type": "stream",
          "name": "stdout",
          "text": [
            "Player1: Please choose your markero\n",
            "Player1: Please choose your markerX\n",
            "X\n",
            "o\n"
          ]
        }
      ]
    },
    {
      "cell_type": "markdown",
      "source": [
        "**win criteria**"
      ],
      "metadata": {
        "id": "9kfNQjIEIDrQ"
      }
    },
    {
      "cell_type": "code",
      "execution_count": 9,
      "metadata": {
        "id": "APyJs_xknm1L"
      },
      "outputs": [],
      "source": [
        "\n",
        "def put_marker(game_input, marker, position, ):\n",
        "\tgame_input[position] = marker\n",
        "\n",
        "\n",
        "def win(game_input, marker):\n",
        "\t  return ((game_input[1] == game_input[2] == game_input[3] == marker) or\n",
        "\t\t\t     (game_input[4] == game_input[5] == game_input[6] == marker) or\n",
        "\t\t\t     (game_input[7] == game_input[8] == game_input[9] == marker) or\n",
        "\t\t\t     (game_input[7] == game_input[5] == game_input[3] == marker) or\n",
        "\t\t\t     (game_input[1] == game_input[5] == game_input[9] == marker) or\n",
        "\t\t\t     (game_input[1] == game_input[4] == game_input[4] == marker) or\n",
        "\t\t\t     (game_input[2] == game_input[5] == game_input[8] == marker) or\n",
        "\t\t\t     (game_input[3] == game_input[6] == game_input[9] == marker))\n",
        "   \n",
        "#print(win(game_input,'0'))\n",
        "\n"
      ]
    },
    {
      "cell_type": "markdown",
      "source": [
        "**Player Assignment and board check**"
      ],
      "metadata": {
        "id": "OmQ5qa10OiaO"
      }
    },
    {
      "cell_type": "code",
      "source": [
        "#Choose player using Random Function\n",
        "\n",
        "def chose_player():\n",
        "    player = random.randint(1,2)\n",
        "    if player == 1:\n",
        "       return 'player 1'\n",
        "    else:\n",
        "       return 'player 2'\n",
        "\n",
        "#check for empty space\n",
        "def space(game_input,position):\n",
        "    return game_input[position] == ' '\n"
      ],
      "metadata": {
        "id": "VIwqKW0hOp8C"
      },
      "execution_count": 17,
      "outputs": []
    },
    {
      "cell_type": "markdown",
      "source": [
        "**Place marker**"
      ],
      "metadata": {
        "id": "jpKyn1uBR4u6"
      }
    },
    {
      "cell_type": "code",
      "source": [
        "#check for empty space\n",
        "def space(game_input, position):\n",
        "\t  return game_input[position] == ' '\n",
        "\n",
        "#full board check\n",
        "def full_board_check(game_input):\n",
        "    for i in range(1, 10):\n",
        "\t\t    if space(game_input, i):\n",
        "\t\t\t      return False\n",
        "    return True\n",
        " \n",
        "#Player choice of marker placement\n",
        "\n",
        "def player_choise(game_input):\n",
        "\tposition = 0\n",
        "\twhile position not in [1, 2, 3, 4, 5, 6, 7, 8, 9] or not space(game_input, position):\n",
        "\t\tposition = int(input('Please Chose your position(1-9) On NumPad: '))\n",
        "\treturn position\n"
      ],
      "metadata": {
        "id": "4KKcWpSHR7y0"
      },
      "execution_count": 25,
      "outputs": []
    },
    {
      "cell_type": "markdown",
      "source": [
        "**Game design mechnism**"
      ],
      "metadata": {
        "id": "FeWV29QbZr3V"
      }
    },
    {
      "cell_type": "code",
      "source": [
        "\n",
        "def play_again():\n",
        "\tchoice = input('Would you like to play again[Y/N]: ')\n",
        "\treturn choice == 'Y'\n",
        "\n",
        "\n",
        "while True:\n",
        "\n",
        "\tthe_board = [' '] * 10\n",
        "\tplayer_1, player_2 = player_input()\n",
        "\tprint(player_1 + ' is playre_1 sign')\n",
        "\tprint(player_2 + ' is playre_2 sign')\n",
        "\n",
        "\tturn = chose_player()\n",
        "\tprint(turn + ' will Play first')\n",
        "\n",
        "\tplay_game = input('Ready to play[Y/N]: ')\n",
        "\n",
        "\tif play_game == 'Y':\n",
        "\t\tgame_on = True\n",
        "\telse:\n",
        "\t\tgame_on = False\n",
        "\n",
        "\twhile game_on:\n",
        "\n",
        "\t\tif turn == 'player_1':\n",
        "\t\t\tboard(the_board)\n",
        "\t\t\tposition = player_choise(the_board)\n",
        "\n",
        "\t\t\tput_marker(the_board, player_1, position)\n",
        "\n",
        "\t\t\tif win(the_board, player_1):\n",
        "\t\t\t\tboard(the_board)\n",
        "\t\t\t\tprint('Player 1 has Won, Yeyeyeyey')\n",
        "\t\t\t\tgame_on = False\n",
        "\t\t\telse:\n",
        "\t\t\t\tif full_board_check(the_board):\n",
        "\t\t\t\t\tboard(the_board)\n",
        "\t\t\t\t\tprint('Game Tie')\n",
        "\t\t\t\t\tgame_on = False\n",
        "\n",
        "\t\t\t\telse:\n",
        "\t\t\t\t\tturn = 'player_2'\n",
        "\t\telse:\n",
        "\t\t\tboard(the_board)\n",
        "\t\t\tposition = player_choise(the_board)\n",
        "\n",
        "\t\t\tput_marker(the_board, player_2, position)\n",
        "\n",
        "\t\t\tif win(the_board, player_2):\n",
        "\t\t\t\tboard(the_board)\n",
        "\t\t\t\tprint('Player 2 has Won, Yeyeyeyey')\n",
        "\t\t\t\tgame_on = False\n",
        "\t\t\telse:\n",
        "\t\t\t\tif full_board_check(the_board):\n",
        "\t\t\t\t\tboard(the_board)\n",
        "\t\t\t\t\tprint('Game Tie')\n",
        "\t\t\t\t\tgame_on = False\n",
        "\n",
        "\t\t\t\telse:\n",
        "\t\t\t\t\tturn = 'player_1'\n",
        "\n",
        "\tif not play_again():\n",
        "\t\tbreak\n",
        "\n",
        "\n",
        "\t\t  "
      ],
      "metadata": {
        "colab": {
          "base_uri": "https://localhost:8080/"
        },
        "id": "8ipkky1VaIyH",
        "outputId": "52d6ef82-30a5-45bf-d9bf-3b185b749384"
      },
      "execution_count": 31,
      "outputs": [
        {
          "name": "stdout",
          "output_type": "stream",
          "text": [
            "Player1: Please chose your marker: o\n",
            "Player1: Please chose your marker: x\n",
            "Player1: Please chose your marker: o\n",
            "Player1: Please chose your marker: X\n",
            "X is playre_1 sign\n",
            "O is playre_2 sign\n",
            "player 2 will Play first\n",
            "Ready to play[Y/N]: y\n",
            "Would you like to play again[Y/N]: Y\n",
            "Player1: Please chose your marker: X\n",
            "X is playre_1 sign\n",
            "O is playre_2 sign\n",
            "player 1 will Play first\n",
            "Ready to play[Y/N]: Y\n",
            " | | \n",
            " | | \n",
            " | | \n",
            "Please Chose your position(1-9) On NumPad: 1\n",
            " | | \n",
            " | | \n",
            "O| | \n",
            "Please Chose your position(1-9) On NumPad: 2\n",
            " | | \n",
            " | | \n",
            "O|X| \n",
            "Please Chose your position(1-9) On NumPad: 6\n",
            " | | \n",
            " | |O\n",
            "O|X| \n",
            "Please Chose your position(1-9) On NumPad: 5\n",
            " | | \n",
            " |X|O\n",
            "O|X| \n",
            "Please Chose your position(1-9) On NumPad: 2\n",
            "Please Chose your position(1-9) On NumPad: 2\n",
            "Please Chose your position(1-9) On NumPad: 3\n",
            " | | \n",
            " |X|O\n",
            "O|X|O\n",
            "Please Chose your position(1-9) On NumPad: 6\n",
            "Please Chose your position(1-9) On NumPad: 1\n",
            "Please Chose your position(1-9) On NumPad: 8\n",
            " |X| \n",
            " |X|O\n",
            "O|X|O\n",
            "Player 1 has Won, Yeyeyeyey\n",
            "Would you like to play again[Y/N]: N\n"
          ]
        }
      ]
    }
  ]
}